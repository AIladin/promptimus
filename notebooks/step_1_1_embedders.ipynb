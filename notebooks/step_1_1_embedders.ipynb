{
 "cells": [
  {
   "cell_type": "code",
   "execution_count": 1,
   "id": "56006b93-4e4a-49ac-bc10-d44509f18796",
   "metadata": {},
   "outputs": [],
   "source": [
    "%load_ext rich"
   ]
  },
  {
   "cell_type": "markdown",
   "id": "23fe7683-117b-44bd-8527-1f847f950d6d",
   "metadata": {},
   "source": [
    "# Embedder\n",
    "A embedder is a class that implements `EmbedderProtocol`, serving as an interface to generate text embeddings.\n",
    "\n",
    "```python\n",
    "Embedding = list[float]\n",
    "\n",
    "\n",
    "class EmbedderProtocol(Protocol):\n",
    "    async def aembed_batch(self, texts: list[str], **kwargs: Any) -> list[Embedding]: ...\n",
    "    async def aembed(self, text: str, **kwargs: Any) -> Embedding: ...\n",
    "```"
   ]
  },
  {
   "cell_type": "code",
   "execution_count": 2,
   "id": "78cae10b-de0b-4770-ba2e-d430c87564cf",
   "metadata": {},
   "outputs": [],
   "source": [
    "import promptimus as pm"
   ]
  },
  {
   "cell_type": "code",
   "execution_count": 3,
   "id": "76caa578-70e3-4737-bf63-dc2bbdfe611e",
   "metadata": {},
   "outputs": [],
   "source": [
    "embedder = pm.embedders.OpenAILikeEmbedder(\n",
    "    model_name=\"mxbai-embed-large\",\n",
    "    base_url=\"http://lilan:11434/v1\",\n",
    "    api_key=\"DUMMY\"\n",
    ")"
   ]
  },
  {
   "cell_type": "code",
   "execution_count": 4,
   "id": "e3772273-07c9-405e-b39c-c4c6bc8a5db5",
   "metadata": {},
   "outputs": [
    {
     "data": {
      "text/html": [
       "<pre style=\"white-space:pre;overflow-x:auto;line-height:normal;font-family:Menlo,'DejaVu Sans Mono',consolas,'Courier New',monospace\"></pre>\n"
      ],
      "text/plain": []
     },
     "metadata": {},
     "output_type": "display_data"
    },
    {
     "data": {
      "text/plain": [
       "\u001b[1m(\u001b[0m\u001b[1;36m1024\u001b[0m, \u001b[1m[\u001b[0m\u001b[1;36m0.049403064\u001b[0m, \u001b[1;36m0.012764112\u001b[0m, \u001b[1;36m-0.006060004\u001b[0m\u001b[1m]\u001b[0m\u001b[1m)\u001b[0m"
      ]
     },
     "execution_count": 4,
     "metadata": {},
     "output_type": "execute_result"
    }
   ],
   "source": [
    "embedding = await embedder.aembed(\"Hi\")\n",
    "len(embedding), embedding[:3]"
   ]
  },
  {
   "cell_type": "code",
   "execution_count": 5,
   "id": "e363946d-4a01-4e86-9496-5ed9287d5893",
   "metadata": {},
   "outputs": [
    {
     "data": {
      "text/html": [
       "<pre style=\"white-space:pre;overflow-x:auto;line-height:normal;font-family:Menlo,'DejaVu Sans Mono',consolas,'Courier New',monospace\"></pre>\n"
      ],
      "text/plain": []
     },
     "metadata": {},
     "output_type": "display_data"
    },
    {
     "data": {
      "text/plain": [
       "\u001b[1;36m2\u001b[0m"
      ]
     },
     "execution_count": 5,
     "metadata": {},
     "output_type": "execute_result"
    }
   ],
   "source": [
    "embeddings = await embedder.aembed_batch([\"Hi\", \"How are you?\"])\n",
    "\n",
    "len(embeddings)"
   ]
  }
 ],
 "metadata": {
  "kernelspec": {
   "display_name": "Python 3 (ipykernel)",
   "language": "python",
   "name": "python3"
  },
  "language_info": {
   "codemirror_mode": {
    "name": "ipython",
    "version": 3
   },
   "file_extension": ".py",
   "mimetype": "text/x-python",
   "name": "python",
   "nbconvert_exporter": "python",
   "pygments_lexer": "ipython3",
   "version": "3.12.8"
  }
 },
 "nbformat": 4,
 "nbformat_minor": 5
}
