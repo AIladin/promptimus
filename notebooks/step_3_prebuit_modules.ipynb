{
 "cells": [
  {
   "cell_type": "code",
   "execution_count": 1,
   "id": "76681f47-6727-4def-af0f-d71705b53970",
   "metadata": {},
   "outputs": [],
   "source": [
    "%load_ext rich"
   ]
  },
  {
   "cell_type": "markdown",
   "id": "2771c65c-09a7-4e71-aa24-151c7cfde2a4",
   "metadata": {},
   "source": [
    "# Pre-built modules"
   ]
  },
  {
   "cell_type": "code",
   "execution_count": 2,
   "id": "60cf0f14-9cf4-4fd6-a123-8e8ecd809876",
   "metadata": {},
   "outputs": [],
   "source": [
    "import promptimus as pm"
   ]
  },
  {
   "cell_type": "code",
   "execution_count": 3,
   "id": "e7f54c43-478c-4795-a764-8c378b7b6e47",
   "metadata": {},
   "outputs": [],
   "source": [
    "provider = pm.llms.OllamaProvider(model_name=\"phi4\", base_url=\"http://lilan:11434/v1\")"
   ]
  },
  {
   "cell_type": "markdown",
   "id": "5397b4b3-e6f1-4d9c-a841-62b29695814e",
   "metadata": {},
   "source": [
    "## Memory Module"
   ]
  },
  {
   "cell_type": "code",
   "execution_count": 4,
   "id": "ebc24c68-2596-4bed-8c52-8952ae91e59b",
   "metadata": {},
   "outputs": [],
   "source": [
    "assistant = pm.modules.MemoryModule(\n",
    "    memory_size=3, system_prompt=\"You are an assistant.\"\n",
    ").with_provider(provider)"
   ]
  },
  {
   "cell_type": "code",
   "execution_count": 5,
   "id": "1844c713-99fc-46f5-973f-a2a8173c9792",
   "metadata": {},
   "outputs": [
    {
     "data": {
      "text/html": [
       "<pre style=\"white-space:pre;overflow-x:auto;line-height:normal;font-family:Menlo,'DejaVu Sans Mono',consolas,'Courier New',monospace\"></pre>\n"
      ],
      "text/plain": []
     },
     "metadata": {},
     "output_type": "display_data"
    },
    {
     "data": {
      "text/plain": [
       "\n",
       "\u001b[1;35mMessage\u001b[0m\u001b[1m(\u001b[0m\n",
       "    \u001b[33mrole\u001b[0m=\u001b[1m<\u001b[0m\u001b[1;95mMessageRole.ASSISTANT:\u001b[0m\u001b[39m \u001b[0m\u001b[32m'assistant'\u001b[0m\u001b[1m>\u001b[0m,\n",
       "    \u001b[33mcontent\u001b[0m=\u001b[32m\"Hello\u001b[0m\u001b[32m, Ailacin! It's nice to meet you. How can I assist you today? Whether it's a question, something specific you're interested in learning about, or just a conversation, feel free to let me know! 😊\"\u001b[0m\n",
       "\u001b[1m)\u001b[0m"
      ]
     },
     "execution_count": 5,
     "metadata": {},
     "output_type": "execute_result"
    }
   ],
   "source": [
    "await assistant.forward(\"Hi my name is Ailadin!\")"
   ]
  },
  {
   "cell_type": "code",
   "execution_count": 6,
   "id": "cb27a715-483b-40ec-9ced-8c0e04bd60f5",
   "metadata": {},
   "outputs": [
    {
     "data": {
      "text/html": [
       "<pre style=\"white-space:pre;overflow-x:auto;line-height:normal;font-family:Menlo,'DejaVu Sans Mono',consolas,'Courier New',monospace\"></pre>\n"
      ],
      "text/plain": []
     },
     "metadata": {},
     "output_type": "display_data"
    },
    {
     "data": {
      "text/plain": [
       "\n",
       "\u001b[1;35mMessage\u001b[0m\u001b[1m(\u001b[0m\n",
       "    \u001b[33mrole\u001b[0m=\u001b[1m<\u001b[0m\u001b[1;95mMessageRole.ASSISTANT:\u001b[0m\u001b[39m \u001b[0m\u001b[32m'assistant'\u001b[0m\u001b[1m>\u001b[0m,\n",
       "    \u001b[33mcontent\u001b[0m=\u001b[32m'Your name is Ailadin. If there’s anything else you’d like to discuss or if you have any questions, feel free to ask!'\u001b[0m\n",
       "\u001b[1m)\u001b[0m"
      ]
     },
     "execution_count": 6,
     "metadata": {},
     "output_type": "execute_result"
    }
   ],
   "source": [
    "# remembering name from context\n",
    "await assistant.forward(\"What is my name?\")"
   ]
  },
  {
   "cell_type": "code",
   "execution_count": 7,
   "id": "6b5125ad-7c0f-46aa-9904-05f186c342c0",
   "metadata": {},
   "outputs": [
    {
     "data": {
      "text/html": [
       "<pre style=\"white-space:pre;overflow-x:auto;line-height:normal;font-family:Menlo,'DejaVu Sans Mono',consolas,'Courier New',monospace\"></pre>\n"
      ],
      "text/plain": []
     },
     "metadata": {},
     "output_type": "display_data"
    },
    {
     "data": {
      "text/plain": [
       "\n",
       "\u001b[1;35mMessage\u001b[0m\u001b[1m(\u001b[0m\n",
       "    \u001b[33mrole\u001b[0m=\u001b[1m<\u001b[0m\u001b[1;95mMessageRole.ASSISTANT:\u001b[0m\u001b[39m \u001b[0m\u001b[32m'assistant'\u001b[0m\u001b[1m>\u001b[0m,\n",
       "    \u001b[33mcontent\u001b[0m=\u001b[32m'I\\'m an AI digital assistant designed to help with a wide range of queries and tasks. While I don\\'t have a personal name like a human would, you can refer to me simply as \"Assistant.\" How can I assist you today?'\u001b[0m\n",
       "\u001b[1m)\u001b[0m"
      ]
     },
     "execution_count": 7,
     "metadata": {},
     "output_type": "execute_result"
    }
   ],
   "source": [
    "await assistant.forward(\"What is your name?\")"
   ]
  },
  {
   "cell_type": "code",
   "execution_count": 8,
   "id": "ea04a2aa-a909-4bbf-8378-9a04d4c953ec",
   "metadata": {},
   "outputs": [
    {
     "data": {
      "text/html": [
       "<pre style=\"white-space:pre;overflow-x:auto;line-height:normal;font-family:Menlo,'DejaVu Sans Mono',consolas,'Courier New',monospace\"></pre>\n"
      ],
      "text/plain": []
     },
     "metadata": {},
     "output_type": "display_data"
    },
    {
     "data": {
      "text/plain": [
       "\n",
       "\u001b[1;35mMessage\u001b[0m\u001b[1m(\u001b[0m\n",
       "    \u001b[33mrole\u001b[0m=\u001b[1m<\u001b[0m\u001b[1;95mMessageRole.ASSISTANT:\u001b[0m\u001b[39m \u001b[0m\u001b[32m'assistant'\u001b[0m\u001b[1m>\u001b[0m,\n",
       "    \u001b[33mcontent\u001b[0m=\u001b[32m\"I\u001b[0m\u001b[32m'm unable to provide real-time updates or access current data, including the weather. However, you can check the local weather by:\\n\\n1. **Weather Websites**: Visit websites like The Weather Channel, AccuWeather, or Weather.com and search for your location.\\n2. **Mobile Apps**: Use apps like Dark Sky \u001b[0m\u001b[32m(\u001b[0m\u001b[32mnow part of Apple\u001b[0m\u001b[32m)\u001b[0m\u001b[32m, Weather Underground, or a weather feature on your smartphone's built-in app.\\n3. **News Broadcasts**: Tune into local news channels that often provide weather updates.\\n4. **Smart Speakers**: Ask devices like Amazon Alexa, Google Assistant, or Siri for the current weather in your area.\\n\\nLet me know if there’s anything else you’d like to know!\"\u001b[0m\n",
       "\u001b[1m)\u001b[0m"
      ]
     },
     "execution_count": 8,
     "metadata": {},
     "output_type": "execute_result"
    }
   ],
   "source": [
    "await assistant.forward(\"What is my the weather today?\")"
   ]
  },
  {
   "cell_type": "code",
   "execution_count": 9,
   "id": "467c4ac6-cb6d-4470-b11f-0e4a33e9e4fc",
   "metadata": {},
   "outputs": [
    {
     "data": {
      "text/html": [
       "<pre style=\"white-space:pre;overflow-x:auto;line-height:normal;font-family:Menlo,'DejaVu Sans Mono',consolas,'Courier New',monospace\"></pre>\n"
      ],
      "text/plain": []
     },
     "metadata": {},
     "output_type": "display_data"
    },
    {
     "data": {
      "text/plain": [
       "Memory\u001b[1m[\u001b[0m\u001b[1;35mdeque\u001b[0m\u001b[1m(\u001b[0m\u001b[1m[\u001b[0m\u001b[1;35mMessage\u001b[0m\u001b[1m(\u001b[0m\u001b[33mrole\u001b[0m=\u001b[1m<\u001b[0m\u001b[1;95mMessageRole.ASSISTANT:\u001b[0m\u001b[39m \u001b[0m\u001b[32m'assistant'\u001b[0m\u001b[39m>, \u001b[0m\u001b[33mcontent\u001b[0m\u001b[39m=\u001b[0m\u001b[32m'I\\'m an AI digital assistant designed to help with a wide range of queries and tasks. While I don\\'t have a personal name like a human would, you can refer to me simply as \"Assistant.\" How can I assist you today?'\u001b[0m\u001b[1;39m)\u001b[0m\u001b[39m, \u001b[0m\u001b[1;35mMessage\u001b[0m\u001b[1;39m(\u001b[0m\u001b[33mrole\u001b[0m\u001b[39m=<MessageRole.USER: \u001b[0m\u001b[32m'user'\u001b[0m\u001b[39m>, \u001b[0m\u001b[33mcontent\u001b[0m\u001b[39m=\u001b[0m\u001b[32m'What is my the weather today?'\u001b[0m\u001b[1;39m)\u001b[0m\u001b[39m, \u001b[0m\u001b[1;35mMessage\u001b[0m\u001b[1;39m(\u001b[0m\u001b[33mrole\u001b[0m\u001b[39m=<MessageRole.ASSISTANT: \u001b[0m\u001b[32m'assistant'\u001b[0m\u001b[1m>\u001b[0m, \u001b[33mcontent\u001b[0m=\u001b[32m\"I\u001b[0m\u001b[32m'm unable to provide real-time updates or access current data, including the weather. However, you can check the local weather by:\\n\\n1. **Weather Websites**: Visit websites like The Weather Channel, AccuWeather, or Weather.com and search for your location.\\n2. **Mobile Apps**: Use apps like Dark Sky \u001b[0m\u001b[32m(\u001b[0m\u001b[32mnow part of Apple\u001b[0m\u001b[32m)\u001b[0m\u001b[32m, Weather Underground, or a weather feature on your smartphone's built-in app.\\n3. **News Broadcasts**: Tune into local news channels that often provide weather updates.\\n4. **Smart Speakers**: Ask devices like Amazon Alexa, Google Assistant, or Siri for the current weather in your area.\\n\\nLet me know if there’s anything else you’d like to know!\"\u001b[0m\u001b[1m)\u001b[0m\u001b[1m]\u001b[0m, \u001b[33mmaxlen\u001b[0m=\u001b[1;36m3\u001b[0m\u001b[1m)\u001b[0m\u001b[1m]\u001b[0m"
      ]
     },
     "execution_count": 9,
     "metadata": {},
     "output_type": "execute_result"
    }
   ],
   "source": [
    "# memory maxlen exhausted\n",
    "assistant.memory"
   ]
  },
  {
   "cell_type": "code",
   "execution_count": 10,
   "id": "a66435a8-72bd-47a7-81c0-dda203aaa12e",
   "metadata": {},
   "outputs": [
    {
     "data": {
      "text/html": [
       "<pre style=\"white-space:pre;overflow-x:auto;line-height:normal;font-family:Menlo,'DejaVu Sans Mono',consolas,'Courier New',monospace\"></pre>\n"
      ],
      "text/plain": []
     },
     "metadata": {},
     "output_type": "display_data"
    },
    {
     "data": {
      "text/plain": [
       "\n",
       "\u001b[1;35mMessage\u001b[0m\u001b[1m(\u001b[0m\n",
       "    \u001b[33mrole\u001b[0m=\u001b[1m<\u001b[0m\u001b[1;95mMessageRole.ASSISTANT:\u001b[0m\u001b[39m \u001b[0m\u001b[32m'assistant'\u001b[0m\u001b[1m>\u001b[0m,\n",
       "    \u001b[33mcontent\u001b[0m=\u001b[32m\"I\u001b[0m\u001b[32m'm sorry, but I don't have the ability to remember personal information such as names unless it's provided during our conversation for the specific session. Each interaction with me is designed to respect your privacy and confidentiality, meaning I don’t retain any past interactions or data once the conversation ends. If you'd like to share more about yourself or anything specific, feel free to do so!\"\u001b[0m\n",
       "\u001b[1m)\u001b[0m"
      ]
     },
     "execution_count": 10,
     "metadata": {},
     "output_type": "execute_result"
    }
   ],
   "source": [
    "# now it doesn't have memory in context\n",
    "await assistant.forward(\"Can you recall my name?\")"
   ]
  },
  {
   "cell_type": "code",
   "execution_count": 11,
   "id": "987571d3-37b0-4ddf-9d6f-8cc1a2dc7a6b",
   "metadata": {},
   "outputs": [
    {
     "data": {
      "text/html": [
       "<pre style=\"white-space:pre;overflow-x:auto;line-height:normal;font-family:Menlo,'DejaVu Sans Mono',consolas,'Courier New',monospace\"></pre>\n"
      ],
      "text/plain": []
     },
     "metadata": {},
     "output_type": "display_data"
    },
    {
     "data": {
      "text/plain": [
       "Memory\u001b[1m[\u001b[0m\u001b[1;35mdeque\u001b[0m\u001b[1m(\u001b[0m\u001b[1m[\u001b[0m\u001b[1m]\u001b[0m, \u001b[33mmaxlen\u001b[0m=\u001b[1;36m3\u001b[0m\u001b[1m)\u001b[0m\u001b[1m]\u001b[0m"
      ]
     },
     "execution_count": 11,
     "metadata": {},
     "output_type": "execute_result"
    }
   ],
   "source": [
    "# memory can be cleaned manually\n",
    "assistant.memory.reset()\n",
    "assistant.memory"
   ]
  },
  {
   "cell_type": "code",
   "execution_count": 12,
   "id": "cb4ebd6d-2e6b-420a-bf9f-de6e5194afc7",
   "metadata": {},
   "outputs": [
    {
     "name": "stdout",
     "output_type": "stream",
     "text": [
      "Inside context Memory[deque([Message(role=<MessageRole.ASSISTANT: 'assistant'>, content=\"Hello, Ailatin! It's nice to meet you. How can I assist you today? Feel free to ask any questions or share what you'd like to talk about. 😊\"), Message(role=<MessageRole.USER: 'user'>, content='What is my name'), Message(role=<MessageRole.ASSISTANT: 'assistant'>, content=\"Your name appears to be Ailadin as mentioned earlier in our conversation. If there are any other details you'd like me to know or help with, please let me know!\")], maxlen=3)]\n",
      "----\n",
      "Outside context Memory[deque([], maxlen=3)]\n"
     ]
    }
   ],
   "source": [
    "# or can be cleared on context enter and exit\n",
    "\n",
    "with assistant.memory:\n",
    "    await assistant.forward(\"Hi my name is Ailadin\")\n",
    "    await assistant.forward(\"What is my name\")\n",
    "    print(\"Inside context\", assistant.memory)\n",
    "print(\"----\")\n",
    "print(\"Outside context\", assistant.memory)"
   ]
  }
 ],
 "metadata": {
  "kernelspec": {
   "display_name": "promptimus",
   "language": "python",
   "name": "promptimus"
  },
  "language_info": {
   "codemirror_mode": {
    "name": "ipython",
    "version": 3
   },
   "file_extension": ".py",
   "mimetype": "text/x-python",
   "name": "python",
   "nbconvert_exporter": "python",
   "pygments_lexer": "ipython3",
   "version": "3.12.8"
  }
 },
 "nbformat": 4,
 "nbformat_minor": 5
}
